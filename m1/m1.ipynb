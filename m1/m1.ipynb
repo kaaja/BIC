{
 "cells": [
  {
   "cell_type": "markdown",
   "metadata": {},
   "source": [
    "# Mandatory 1 INF4490\n",
    "Karl Jacobsen"
   ]
  },
  {
   "cell_type": "code",
   "execution_count": 49,
   "metadata": {},
   "outputs": [],
   "source": [
    "import numpy as np\n",
    "import matplotlib.pyplot as plt\n",
    "import itertools as it\n",
    "import pandas as pd"
   ]
  },
  {
   "cell_type": "code",
   "execution_count": 30,
   "metadata": {},
   "outputs": [
    {
     "name": "stdout",
     "output_type": "stream",
     "text": [
      "    Barcelona  Belgrade   Berlin  Brussels  Bucharest  Budapest  Copenhagen  \\\n",
      "0        0.00   1528.13  1497.61   1062.89    1968.42   1498.79     1757.54   \n",
      "1     1528.13      0.00   999.25   1372.59     447.34    316.41     1327.24   \n",
      "2     1497.61    999.25     0.00    651.62    1293.40    689.06      354.03   \n",
      "3     1062.89   1372.59   651.62      0.00    1769.69   1131.52      766.67   \n",
      "4     1968.42    447.34  1293.40   1769.69       0.00    639.77     1571.54   \n",
      "5     1498.79    316.41   689.06   1131.52     639.77      0.00     1011.31   \n",
      "6     1757.54   1327.24   354.03    766.67    1571.54   1011.31        0.00   \n",
      "7     1469.29   2145.39  1315.16    773.20    2534.72   1894.95     1238.38   \n",
      "8     1471.78   1229.93   254.51    489.76    1544.17    927.92      287.97   \n",
      "9     2230.42    809.48  1735.01   2178.85     445.62   1064.76     2017.17   \n",
      "10    2391.06    976.02  1204.00   1836.20     744.44    894.29     1326.33   \n",
      "11    1137.67   1688.97   929.97    318.72    2088.42   1450.12      955.13   \n",
      "12     504.64   2026.94  1867.69   1314.30    2469.71   1975.38     2071.75   \n",
      "13     725.12    885.32   840.72    696.61    1331.46    788.56     1157.89   \n",
      "14    3006.93   1710.99  1607.99   2253.26    1497.56   1565.19     1558.52   \n",
      "15    1054.55    773.33   501.97    601.87    1186.37    563.93      838.00   \n",
      "16     831.59   1445.70   876.96    261.29    1869.95   1247.61     1025.90   \n",
      "17    1353.90    738.10   280.34    721.08    1076.82    443.26      633.05   \n",
      "18     856.69    721.55  1181.67   1171.34    1137.38    811.11     1529.69   \n",
      "19    2813.02   1797.75  1319.62   1903.66    1740.39   1556.51     1143.40   \n",
      "20    1745.55    329.46  1318.67   1697.83     296.68    629.63     1635.54   \n",
      "21    2276.51   1620.96   810.38   1280.88    1742.25   1316.59      521.68   \n",
      "22    1347.43    489.28   523.61    914.81     855.32    216.98      868.87   \n",
      "23    1862.33    826.66   516.06   1159.85     946.12    545.29      667.80   \n",
      "\n",
      "     Dublin  Hamburg  Istanbul   ...      Moscow   Munich    Paris   Prague  \\\n",
      "0   1469.29  1471.78   2230.42   ...     3006.93  1054.55   831.59  1353.90   \n",
      "1   2145.39  1229.93    809.48   ...     1710.99   773.33  1445.70   738.10   \n",
      "2   1315.16   254.51   1735.01   ...     1607.99   501.97   876.96   280.34   \n",
      "3    773.20   489.76   2178.85   ...     2253.26   601.87   261.29   721.08   \n",
      "4   2534.72  1544.17    445.62   ...     1497.56  1186.37  1869.95  1076.82   \n",
      "5   1894.95   927.92   1064.76   ...     1565.19   563.93  1247.61   443.26   \n",
      "6   1238.38   287.97   2017.17   ...     1558.52   838.00  1025.90   633.05   \n",
      "7      0.00  1073.36   2950.11   ...     2792.41  1374.91   776.83  1465.61   \n",
      "8   1073.36     0.00   1983.75   ...     1779.93   610.17   744.63   492.25   \n",
      "9   2950.11  1983.75      0.00   ...     1753.97  1582.16  2253.98  1507.55   \n",
      "10  2513.69  1440.34   1052.95   ...      756.61  1391.36  2022.76  1138.61   \n",
      "11   462.60   720.12   2496.39   ...     2498.32   916.23   340.55  1034.57   \n",
      "12  1449.96  1785.33   2734.60   ...     3437.70  1484.53  1053.40  1773.73   \n",
      "13  1413.37   900.01   1669.43   ...     2283.19   348.89   641.31   646.04   \n",
      "14  2792.41  1779.93   1753.97   ...        0.00  1957.15  2484.92  1664.04   \n",
      "15  1374.91   610.17   1582.16   ...     1957.15     0.00   685.14   300.16   \n",
      "16   776.83   744.63   2253.98   ...     2484.92   685.14     0.00   885.38   \n",
      "17  1465.61   492.25   1507.55   ...     1664.04   300.16   885.38     0.00   \n",
      "18  1882.22  1307.51   1373.81   ...     2374.26   698.04  1105.76   922.00   \n",
      "19  2314.19  1414.16   2099.29   ...      632.59  1773.83  2157.99  1476.73   \n",
      "20  2471.02  1554.82    502.61   ...     1777.35  1096.54  1758.03  1064.43   \n",
      "21  1626.56   809.65   2171.65   ...     1227.38  1311.80  1541.83  1052.85   \n",
      "22  1680.00   742.79   1273.88   ...     1669.22   354.42  1033.73   250.71   \n",
      "23  1823.72   750.49   1386.08   ...     1149.41   809.02  1365.91   514.69   \n",
      "\n",
      "       Rome  Saint Petersburg    Sofia  Stockholm   Vienna   Warsaw  \n",
      "0    856.69           2813.02  1745.55    2276.51  1347.43  1862.33  \n",
      "1    721.55           1797.75   329.46    1620.96   489.28   826.66  \n",
      "2   1181.67           1319.62  1318.67     810.38   523.61   516.06  \n",
      "3   1171.34           1903.66  1697.83    1280.88   914.81  1159.85  \n",
      "4   1137.38           1740.39   296.68    1742.25   855.32   946.12  \n",
      "5    811.11           1556.51   629.63    1316.59   216.98   545.29  \n",
      "6   1529.69           1143.40  1635.54     521.68   868.87   667.80  \n",
      "7   1882.22           2314.19  2471.02    1626.56  1680.00  1823.72  \n",
      "8   1307.51           1414.16  1554.82     809.65   742.79   750.49  \n",
      "9   1373.81           2099.29   502.61    2171.65  1273.88  1386.08  \n",
      "10  1673.74           1051.39  1020.76    1265.79  1052.76   690.12  \n",
      "11  1431.21           2093.69  2012.70    1431.07  1233.48  1445.85  \n",
      "12  1360.80           3183.43  2250.10    2591.53  1807.09  2288.42  \n",
      "13   476.00           2122.15  1166.83    1650.12   623.36  1143.01  \n",
      "14  2374.26            632.59  1777.35    1227.38  1669.22  1149.41  \n",
      "15   698.04           1773.83  1096.54    1311.80   354.42   809.02  \n",
      "16  1105.76           2157.99  1758.03    1541.83  1033.73  1365.91  \n",
      "17   922.00           1476.73  1064.43    1052.85   250.71   514.69  \n",
      "18     0.00           2339.22   894.06    1974.79   763.26  1316.24  \n",
      "19  2339.22              0.00  1969.82     688.33  1577.56  1023.41  \n",
      "20   894.06           1969.82     0.00    1884.91   817.45  1076.99  \n",
      "21  1974.79            688.33  1884.91       0.00  1241.90   808.14  \n",
      "22   763.26           1577.56   817.45    1241.90     0.00   557.43  \n",
      "23  1316.24           1023.41  1076.99     808.14   557.43     0.00  \n",
      "\n",
      "[24 rows x 24 columns]\n"
     ]
    }
   ],
   "source": [
    "import os\n",
    "import pandas as pd\n",
    "df = pd.read_csv( \"european_cities.csv\", sep=';')\n",
    "print(df)"
   ]
  },
  {
   "cell_type": "code",
   "execution_count": 195,
   "metadata": {},
   "outputs": [
    {
     "name": "stdout",
     "output_type": "stream",
     "text": [
      "['Barcelona' 'Belgrade' 'Berlin']\n"
     ]
    }
   ],
   "source": [
    "cityNames = np.asarray(list(df))\n",
    "print(cityNames[0:3])"
   ]
  },
  {
   "cell_type": "code",
   "execution_count": 254,
   "metadata": {},
   "outputs": [],
   "source": [
    "class TSP:\n",
    "    def __init__(self):\n",
    "        self.a = a\n",
    "    \n",
    "    def exhaustive(self, cities):\n",
    "        alternativesTemporary = list(it.permutations(cities[1:], len(cities) - 1)) # Leave out 1st city as trick\n",
    "        alternatives = []\n",
    "        for i in range(len(alternativesTemporary)):\n",
    "            templist = [cities[0]]\n",
    "            for j in range(len(alternativesTemporary[0])):\n",
    "                templist.append(alternativesTemporary[i][j])\n",
    "            templist.append(templist[0])\n",
    "            alternatives.append(templist)\n",
    "            \n",
    "        bestSolutionLength = 1e9\n",
    "        for alternative in alternatives:\n",
    "            length = 0\n",
    "            for city1, city2 in zip(alternative[:-1], alternative[1:]):\n",
    "                indexNumberCity2 = np.concatenate(np.where(cityNames == city2))                \n",
    "                length += df[city1][indexNumberCity2].values                \n",
    "        \n",
    "            if length < bestSolutionLength:\n",
    "                bestSolutionLength = length\n",
    "                bestSolution = alternative\n",
    "        \n",
    "        return bestSolution, bestSolutionLength"
   ]
  },
  {
   "cell_type": "markdown",
   "metadata": {},
   "source": [
    "# Exhaustive search"
   ]
  },
  {
   "cell_type": "code",
   "execution_count": 259,
   "metadata": {},
   "outputs": [
    {
     "name": "stdout",
     "output_type": "stream",
     "text": [
      "input ['Barcelona' 'Belgrade' 'Berlin' 'Brussels' 'Bucharest' 'Budapest'\n",
      " 'Copenhagen' 'Dublin' 'Hamburg'] \n",
      "\n",
      "sol ['Barcelona', 'Belgrade', 'Bucharest', 'Budapest', 'Berlin', 'Copenhagen', 'Hamburg', 'Brussels', 'Dublin', 'Barcelona'] \n",
      " length [6678.55]\n"
     ]
    }
   ],
   "source": [
    "firstCities = 5\n",
    "cities = cityNames[0:firstCities]\n",
    "print('input', cities, '\\n')    \n",
    "a = TSP()\n",
    "sol, length = a.exhaustive(cities)\n",
    "print('sol', sol, '\\n length', length)"
   ]
  }
 ],
 "metadata": {
  "kernelspec": {
   "display_name": "Python 3",
   "language": "python",
   "name": "python3"
  },
  "language_info": {
   "codemirror_mode": {
    "name": "ipython",
    "version": 3
   },
   "file_extension": ".py",
   "mimetype": "text/x-python",
   "name": "python",
   "nbconvert_exporter": "python",
   "pygments_lexer": "ipython3",
   "version": "3.6.6"
  }
 },
 "nbformat": 4,
 "nbformat_minor": 2
}
