{
 "cells": [
  {
   "cell_type": "markdown",
   "metadata": {},
   "source": []
  },
  {
   "cell_type": "markdown",
   "metadata": {},
   "source": [
    "# Particle Swarm Optimizations\n",
    "The particle swarm velocity update formula is\n",
    "\n",
    "\\begin{equation}\n",
    "    v_i^{(t+1)} \\leftarrow \\alpha v_i ^{(t)} + U(0,\\beta)(p_i-x_i^{(t)}) + U(0,\\beta)(p_g - x_i^{(t)})\n",
    "\\end{equation}\n",
    "\n",
    "If we replaced the random terms related to personal and global best with a term proportional to the local objective function gradient, like this:\n",
    "\n",
    "\\begin{equation}\n",
    "    v_i^{(t+1)} \\leftarrow \\alpha v_i ^{(t)} + \\gamma \\nabla f(x_i^{(t)})\n",
    "\\end{equation}\n",
    "\n",
    "How would the particles behave? How does this compare to gradient ascent?"
   ]
  },
  {
   "cell_type": "markdown",
   "metadata": {},
   "source": [
    "__Answer:__\n",
    "It is the same as gradient ascent except for the $\\alpha$ infront of the first term."
   ]
  },
  {
   "cell_type": "code",
   "execution_count": null,
   "metadata": {},
   "outputs": [],
   "source": []
  }
 ],
 "metadata": {
  "kernelspec": {
   "display_name": "Python 3",
   "language": "python",
   "name": "python3"
  },
  "language_info": {
   "codemirror_mode": {
    "name": "ipython",
    "version": 3
   },
   "file_extension": ".py",
   "mimetype": "text/x-python",
   "name": "python",
   "nbconvert_exporter": "python",
   "pygments_lexer": "ipython3",
   "version": "3.6.6"
  }
 },
 "nbformat": 4,
 "nbformat_minor": 2
}
