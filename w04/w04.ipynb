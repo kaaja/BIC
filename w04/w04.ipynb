{
 "cells": [
  {
   "cell_type": "markdown",
   "metadata": {},
   "source": [
    "# 1  Pareto Optimality\n",
    "\n",
    "## Pareto optimal set when Min f_1 and f_2\n",
    "XFigure a: 1, 2, 5, 7. Non of these are dominated by others.<br>\n",
    "Figure b: 1.\n",
    "\n",
    "## Pareto optimal set when Min f_1 and max f_2\n",
    "XFigure a: 1, 3 <br>\n",
    "Figure b: 1, 2, 3, 4\n",
    "\n",
    "## Pareto optimal set when Max f_1 and min f_2\n",
    "FIgure a: 7, 8 <br>\n",
    "<mark>XXFigure b: 8, 7, 5,  2, 1 <mark> WRONG TWICE\n",
    "\n",
    "## Pareto optimal set when Max f_1 and max f_2\n",
    "Xa: 8, 6, 4, 3<br>\n",
    "b: 4, 6, 8"
   ]
  },
  {
   "cell_type": "markdown",
   "metadata": {},
   "source": [
    "# Weighted sum\n",
    "## Max point when $w_1 = w_2 = 1$\n",
    "Must be one of the poinst along the Pareto set for max_f1 and max f_2. <br>\n",
    "a: 8: 2.5+ 0.3 = 2.8, 6: 1.25+ 0.6 = 1.85, 4:1+1 = 2, 3: 0.9+1.1 = 2 $\\rightarrow$ max point = 8<br>\n",
    "b: 4: 1.25+2.5 = 3.75, 6: 1.5+2.25 = 3.75, 8:2.5+2 = 4.5. $\\rightarrow$ max point = 8\n",
    "\n",
    "## Max point when $w_1 = -1, w_2 = 1$\n",
    "Must be one of the min max points.<br>\n",
    "a: 1:-0.25+0.9 = 0.65. 3: -.75+ 1.1 = 0.35 $\\rightarrow$ x* = 1 <br>\n",
    "b: 1: -0.1+(-0.1) = 0, 2:-0.6 _ 0.4 = -0.2, 3: -0.7+1 = 0.3, 4: -1.25+2.6 = 1.35 $\\rightarrow$ x* = 4"
   ]
  },
  {
   "cell_type": "markdown",
   "metadata": {},
   "source": [
    "# 3  Hybrid Algorithm: Why harder to maintain diversity?\n",
    "Hybrid moves us closer to local optima, explorative. Hence reduces exoration."
   ]
  },
  {
   "cell_type": "markdown",
   "metadata": {},
   "source": [
    "# 4 Measuring algorithm performance\n",
    "## Why is it usually better to use the number of fitness function evaluations as a time measure, rather than the number of generations, or the amount of CPU time spent?\n",
    "Number of generations: The number of fitness evaluations per generation can differ between algos. E.g. the number of hill climbs in an hybrid algo may differ. <br>\n",
    "Time: Time depends on computer power which varies.<br>\n",
    "\n",
    "<mark> Contradiction: 1) Evaluation invariant across algo, depend only on problem. 2)Number of evaluations only algorithm dependent, not dependent on circumstances.  <br>\n",
    "    \n",
    "My slack question: <br>\n",
    "First it says: \"The evaluation ... is invariant across optimization algorithms\n",
    "since it is strictly problem dependent\".\n",
    "Then it says: \"Number of evaluations is only dependent on the algorithm, not\n",
    "on circumstances.\"\n",
    "At first it seems to me that these two sentences contradict each other, but maybe the first is talking about the evaluation itself while the other talks about the number of evaluation?\n",
    "Is the following correct:\n",
    "If we have a given problem, the fitness function is the same no matter what algorithm that is used. Hence the number of evaluations for an algorithm for the given problem will say something about the efficiency of this algorithm when compared against another algorithm's number of evaluations."
   ]
  }
 ],
 "metadata": {
  "kernelspec": {
   "display_name": "Python 3",
   "language": "python",
   "name": "python3"
  },
  "language_info": {
   "codemirror_mode": {
    "name": "ipython",
    "version": 3
   },
   "file_extension": ".py",
   "mimetype": "text/x-python",
   "name": "python",
   "nbconvert_exporter": "python",
   "pygments_lexer": "ipython3",
   "version": "3.6.6"
  }
 },
 "nbformat": 4,
 "nbformat_minor": 2
}
