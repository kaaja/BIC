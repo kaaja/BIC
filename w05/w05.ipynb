{
 "cells": [
  {
   "cell_type": "markdown",
   "metadata": {},
   "source": [
    "# 1a: \n",
    "__Q:__ In the perceptron below, what will the output be when the input is (0, 0)? What about inputs (0, 1), (1, 1) and (1, 0)? What if we change the bias weight to -0.5? <br>\n",
    "\n",
    "__A:__<br>\n"
   ]
  },
  {
   "cell_type": "code",
   "execution_count": 84,
   "metadata": {
    "scrolled": true
   },
   "outputs": [
    {
     "name": "stdout",
     "output_type": "stream",
     "text": [
      "[[0 0 1 1]\n",
      " [0 1 0 1]\n",
      " [1 1 1 1]]\n",
      "\n",
      "  [-1.5 -0.5 -0.5  0.5]\n",
      "\n",
      "  [-0.5  0.5  0.5  1.5]\n"
     ]
    }
   ],
   "source": [
    "import numpy as np\n",
    "\n",
    "inputs = np.array(((0,0, 1), (0, 1, 1), (1,0, 1), (1,1,1))).T\n",
    "print(inputs)\n",
    "weights = np.array((1, 1, -1.5))\n",
    "total  = np.dot(weights,inputs)\n",
    "print('\\n ',total)\n",
    "\n",
    "weights = np.array((1, 1, -0.5))\n",
    "total  = np.dot(weights,inputs)\n",
    "print('\\n ',total)\n"
   ]
  },
  {
   "cell_type": "markdown",
   "metadata": {},
   "source": [
    "Output = 1 if element larger than 1.\n",
    "\n",
    "# 1b\n",
    "__Q:__ Starting with random weights, how do you proceed in order to train the perceptron above to perform any given\n",
    "binary operation? Explain. <br>\n",
    "\n",
    "__A:__ We have $$Error = target - output.$$\n",
    "The weights are then adjusted according to $$\\Delta \\omega_i = \\eta*Error*x_i $$\n",
    "\n",
    "# 1c\n",
    "__Q:__ Implement the perceptron, and train it to perform the logical functions NOT (use only one of the inputs), NAND,\n",
    "and NOR. What happens when you try to train it do the XOR function?"
   ]
  },
  {
   "cell_type": "code",
   "execution_count": 94,
   "metadata": {},
   "outputs": [
    {
     "ename": "ValueError",
     "evalue": "shapes (3,) and (1,3) not aligned: 3 (dim 0) != 1 (dim 0)",
     "output_type": "error",
     "traceback": [
      "\u001b[0;31m---------------------------------------------------------------------------\u001b[0m",
      "\u001b[0;31mValueError\u001b[0m                                Traceback (most recent call last)",
      "\u001b[0;32m<ipython-input-94-9cf943a0a7e7>\u001b[0m in \u001b[0;36m<module>\u001b[0;34m()\u001b[0m\n\u001b[1;32m     57\u001b[0m \u001b[0;31m#tst.weights\u001b[0m\u001b[0;34m\u001b[0m\u001b[0;34m\u001b[0m\u001b[0m\n\u001b[1;32m     58\u001b[0m \u001b[0;31m#tst.printFinalWeights()\u001b[0m\u001b[0;34m\u001b[0m\u001b[0;34m\u001b[0m\u001b[0m\n\u001b[0;32m---> 59\u001b[0;31m \u001b[0mtst\u001b[0m\u001b[0;34m.\u001b[0m\u001b[0mrunNetwork\u001b[0m\u001b[0;34m(\u001b[0m\u001b[0;34m)\u001b[0m\u001b[0;34m\u001b[0m\u001b[0m\n\u001b[0m",
      "\u001b[0;32m<ipython-input-94-9cf943a0a7e7>\u001b[0m in \u001b[0;36mrunNetwork\u001b[0;34m(self)\u001b[0m\n\u001b[1;32m     13\u001b[0m             \u001b[0;32mfor\u001b[0m \u001b[0minputNumber\u001b[0m \u001b[0;32min\u001b[0m \u001b[0mrange\u001b[0m\u001b[0;34m(\u001b[0m\u001b[0mself\u001b[0m\u001b[0;34m.\u001b[0m\u001b[0mnumberOfInputs\u001b[0m\u001b[0;34m)\u001b[0m\u001b[0;34m:\u001b[0m\u001b[0;34m\u001b[0m\u001b[0m\n\u001b[1;32m     14\u001b[0m                 \u001b[0mself\u001b[0m\u001b[0;34m.\u001b[0m\u001b[0minputVector\u001b[0m \u001b[0;34m=\u001b[0m \u001b[0mself\u001b[0m\u001b[0;34m.\u001b[0m\u001b[0minputs\u001b[0m\u001b[0;34m[\u001b[0m\u001b[0;34m:\u001b[0m\u001b[0;34m,\u001b[0m\u001b[0minputNumber\u001b[0m\u001b[0;34m]\u001b[0m\u001b[0;34m\u001b[0m\u001b[0m\n\u001b[0;32m---> 15\u001b[0;31m                 \u001b[0mself\u001b[0m\u001b[0;34m.\u001b[0m\u001b[0mweightedInput\u001b[0m\u001b[0;34m(\u001b[0m\u001b[0;34m)\u001b[0m\u001b[0;34m\u001b[0m\u001b[0m\n\u001b[0m\u001b[1;32m     16\u001b[0m                 \u001b[0mself\u001b[0m\u001b[0;34m.\u001b[0m\u001b[0mthresholding\u001b[0m\u001b[0;34m(\u001b[0m\u001b[0;34m)\u001b[0m\u001b[0;34m\u001b[0m\u001b[0m\n\u001b[1;32m     17\u001b[0m                 \u001b[0mself\u001b[0m\u001b[0;34m.\u001b[0m\u001b[0mcalculateTarget\u001b[0m\u001b[0;34m(\u001b[0m\u001b[0;34m)\u001b[0m\u001b[0;34m\u001b[0m\u001b[0m\n",
      "\u001b[0;32m<ipython-input-94-9cf943a0a7e7>\u001b[0m in \u001b[0;36mweightedInput\u001b[0;34m(self)\u001b[0m\n\u001b[1;32m     28\u001b[0m \u001b[0;34m\u001b[0m\u001b[0m\n\u001b[1;32m     29\u001b[0m     \u001b[0;32mdef\u001b[0m \u001b[0mweightedInput\u001b[0m\u001b[0;34m(\u001b[0m\u001b[0mself\u001b[0m\u001b[0;34m)\u001b[0m\u001b[0;34m:\u001b[0m\u001b[0;34m\u001b[0m\u001b[0m\n\u001b[0;32m---> 30\u001b[0;31m         \u001b[0mself\u001b[0m\u001b[0;34m.\u001b[0m\u001b[0mweightedInput\u001b[0m \u001b[0;34m=\u001b[0m \u001b[0mnp\u001b[0m\u001b[0;34m.\u001b[0m\u001b[0mdot\u001b[0m\u001b[0;34m(\u001b[0m\u001b[0mself\u001b[0m\u001b[0;34m.\u001b[0m\u001b[0minputVector\u001b[0m\u001b[0;34m,\u001b[0m\u001b[0mself\u001b[0m\u001b[0;34m.\u001b[0m\u001b[0mweights\u001b[0m\u001b[0;34m)\u001b[0m\u001b[0;34m\u001b[0m\u001b[0m\n\u001b[0m\u001b[1;32m     31\u001b[0m \u001b[0;34m\u001b[0m\u001b[0m\n\u001b[1;32m     32\u001b[0m     \u001b[0;32mdef\u001b[0m \u001b[0mthresholding\u001b[0m\u001b[0;34m(\u001b[0m\u001b[0mself\u001b[0m\u001b[0;34m)\u001b[0m\u001b[0;34m:\u001b[0m\u001b[0;34m\u001b[0m\u001b[0m\n",
      "\u001b[0;31mValueError\u001b[0m: shapes (3,) and (1,3) not aligned: 3 (dim 0) != 1 (dim 0)"
     ]
    }
   ],
   "source": [
    "nand = lambda array: 0 if (array[0] == 1 and array[1] == 1) else 1\n",
    "\n",
    "class SingleLayerPercectron:\n",
    "    def __init__(self, inputs, maxIterations):\n",
    "        self.inputs = inputs\n",
    "        self.numberOfInputs = np.shape(self.inputs)[1]\n",
    "        self.maxIterations = maxIterations\n",
    "        \n",
    "    def runNetwork(self):\n",
    "        self.initializeWeights()\n",
    "        tolerance = 1e-7\n",
    "        for i in range(maxIterations):\n",
    "            for inputNumber in range(self.numberOfInputs):\n",
    "                self.inputVector = self.inputs[:,inputNumber]\n",
    "                self.weightedInput()\n",
    "                self.thresholding()\n",
    "                self.calculateTarget()\n",
    "                self.calculateError()\n",
    "                if self.error > tolerance:\n",
    "                    adjustWeights\n",
    "        self.printFinalWeights()\n",
    "                    \n",
    "        \n",
    "    def initializeWeights(self):\n",
    "        numberOfWeights = np.shape(self.inputs)[0]\n",
    "        self.weights = np.random.uniform(-.25, .25, (1,numberOfWeights))\n",
    "        \n",
    "        \n",
    "    def weightedInput(self):\n",
    "        self.weightedInput = np.dot(self.inputVector,self.weights)\n",
    "        \n",
    "    def thresholding(self):\n",
    "        if self.weightedInput >= 0: \n",
    "            self.output = 1\n",
    "        else:\n",
    "            self.output = 0\n",
    "            \n",
    "    def calculateTarget(self):\n",
    "        self.target = self.trueFunction(self.weightedInput[1:])\n",
    "\n",
    "    def calculateError(self):\n",
    "        self.error =  self.target - self.output\n",
    "    \n",
    "    def adjustWeights(self):\n",
    "        learningRate = .25\n",
    "        deltaWeights = learningRate*self.error*self.inputVector\n",
    "        self.weights += deltaWeights\n",
    "        \n",
    "    def printFinalWeights(self):\n",
    "        print(self.weights)\n",
    "        \n",
    "    \n",
    "maxIterations = 10\n",
    "inputs = np.array(((-1,0, 0), (-1, 0, 1), (-1,1, 0), (-1,1,1))).T\n",
    "tst= SingleLayerPercectron(inputs, maxIterations)\n",
    "#tst.initializeWeights()\n",
    "#tst.weights\n",
    "#tst.printFinalWeights()\n",
    "tst.runNetwork()"
   ]
  }
 ],
 "metadata": {
  "kernelspec": {
   "display_name": "Python 3",
   "language": "python",
   "name": "python3"
  },
  "language_info": {
   "codemirror_mode": {
    "name": "ipython",
    "version": 3
   },
   "file_extension": ".py",
   "mimetype": "text/x-python",
   "name": "python",
   "nbconvert_exporter": "python",
   "pygments_lexer": "ipython3",
   "version": "3.6.6"
  }
 },
 "nbformat": 4,
 "nbformat_minor": 2
}
