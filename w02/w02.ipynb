{
 "cells": [
  {
   "cell_type": "markdown",
   "metadata": {},
   "source": [
    "## Exercise 1 Representations and their operators for crossover and mutation\n",
    "\n",
    "__Binary:__ \n",
    "<br>\n",
    "On the computer. Spices example. Each gene represents one spice, and the value can be true or false.\n",
    "<br>\n",
    "\n",
    "Mutation:<br> \n",
    "Bit-flip. With a probability $p_m$ flip one, or several, digits.\n",
    "<br>\n",
    "\n",
    "Recombination:<br>  \n",
    "L#2 s. 32-: Single-point crossover, n-point crossover, uniform crossover (Tail = parent 1, heads = parent 2, flip through each gene. Child 2 opposite of child 1.)\n",
    "<br>\n",
    "\n",
    "__Integer:__ \n",
    "<br>\n",
    "TSP problem, 8 queens chess problem. Vector of different integers, <mark> DIP, colors (red, blue)\n",
    "<br>\n",
    "Mutation: <br>\n",
    "Creeping (slow) or resetting (larger change)\n",
    "<br>\n",
    "Crossover:<br> \n",
    "    N-point, uniform.\n",
    "\n",
    "__Floating point numbers:__ \n",
    "<br>\n",
    "Maximization of numbers smaller than integers.\n",
    "<br>\n",
    "Mutation: Unform mutation, same role as bit flip for bindary or random resetting for integers. Draw from [LB, UB], upper lower bound. \n",
    "<br>\n",
    "Non-uniform mutation: Use gaussian each variable seprately.\n",
    "<br>\n",
    "Crossover: <br>\n",
    "Discrete recombination: Value always from 1 of parents (No averages). n-point crossover or uniform.  \n",
    "<br>\n",
    "Intermediate recombination: Children, weighted average of parents, as I did in my 1st EA.\n",
    "<br>\n",
    "Example: Simple arithmetic crossover: Crossover + intermediate after crossover point.\n",
    "<br>\n",
    "Example: Single arithmetic crossover. Child 1 equal parent 1 to the left of point, at point a weighted average, and parent 2 to the right of point.\n",
    "<br>\n",
    "Example: Whole arithmetic crossover: weighted average everywhere.\n",
    "<br>\n",
    "\n",
    "__Trees:__ Loops, mathematical expressions.\n",
    "<br>\n",
    "Mutation: replace randomly chosen subtree by randomly generated tree\n",
    "<br>\n",
    "Crossover: Most common recombination: exchange two randomly chosen subtrees among the parents\n",
    "<br>\n",
    "\n",
    "__Permutation:__ \n",
    "<br>\n",
    "Travelling sales person. One number only appears once. List of n different integers.\n",
    "<br>\n",
    "Mutation:\n",
    "    <br>\n",
    "    Must change at least 2 values. Swapping. Insert mutation: Move one next to another and change all others to come next in same order as they were. Scramble mutation: for certain number of genes randomly reorder these genes. Inversion: For a chosen area, reverse the order of the genes.\n",
    " <br>\n",
    "Crossover:\n",
    "<br>\n",
    "   Adjacance important (who is neighbor). TSP. --> Conserve adjacancy.\n",
    "   <br>\n",
    "   Partially mapped crossover and edge recombination: L#2 s. 52\n",
    "   <br>\n",
    "   Order importan others. Need to conserve order. Order corssover and cycle crossover.\n",
    "   <br>\n",
    "   Partially mapped crossover (PMX). See slides L#2 s 56.\n",
    "   <br>\n",
    "   Edge recombination. See slide.\n",
    "   <br>\n",
    "   Order crossover: L#2 s 61. Understandable example.\n",
    "   <br>\n",
    "   Cycle crossover: L#2 s 62. \n"
   ]
  },
  {
   "cell_type": "markdown",
   "metadata": {},
   "source": [
    "## Exercsise 2: Bit flip mutation"
   ]
  },
  {
   "cell_type": "code",
   "execution_count": 7,
   "metadata": {},
   "outputs": [
    {
     "name": "stdout",
     "output_type": "stream",
     "text": [
      "p(0) =  0.31640625 \n",
      " p(1) =  0.421875 \n",
      " p(x>1) =  0.26171875\n"
     ]
    }
   ],
   "source": [
    "import scipy.special\n",
    "\n",
    "pm = 1./4\n",
    "p0 = (1 - pm)**4\n",
    "\n",
    "n = 4\n",
    "p1 = scipy.special.binom(n, 1)*pm**1*(1-pm)**(n-1)\n",
    "\n",
    "pMoreThan1 = 0\n",
    "for k in range(2,4+1):\n",
    "    pMoreThan1 += scipy.special.binom(n, k)*pm**k*(1-pm)**(n-k)\n",
    "\n",
    "print('p(0) = ', p0, '\\n p(1) = ', p1, '\\n p(x>1) = ', pMoreThan1)"
   ]
  },
  {
   "cell_type": "markdown",
   "metadata": {},
   "source": [
    "Altnernatively, $P(x>1) = P(x \\geq 2) = 1 - P(0) - P(1)$"
   ]
  },
  {
   "cell_type": "markdown",
   "metadata": {},
   "source": [
    "## Exercise 3: Crossover\n",
    "# PMX Example from book first."
   ]
  },
  {
   "cell_type": "code",
   "execution_count": 93,
   "metadata": {},
   "outputs": [
    {
     "name": "stdout",
     "output_type": "stream",
     "text": [
      "[0. 0. 0. 4. 5. 6. 7. 0. 0.]\n",
      "c [0. 0. 0. 4. 5. 6. 7. 0. 8.]\n",
      "c [0. 0. 2. 4. 5. 6. 7. 0. 8.]\n",
      "c rem (array([0, 1, 7]),)\n",
      "p2 [9 3 7 8 2 6 5 1 4]\n",
      "c  [0. 0. 2. 4. 5. 6. 7. 0. 8.]\n",
      "[9. 3. 2. 4. 5. 6. 7. 1. 8.]\n"
     ]
    }
   ],
   "source": [
    "p1 = np.asarray(np.arange(1,9+1,1))\n",
    "p2 = np.asarray((9,3,7,8,2,6,5,1,4))\n",
    "c = np.zeros(len(p1))\n",
    "startPosition = 3\n",
    "stopPosition = 6+1\n",
    "c[startPosition:stopPosition] = p1[startPosition:stopPosition]\n",
    "print(c)\n",
    "for position in np.arange(startPosition,stopPosition,1):\n",
    "    if p2[position] not in c[startPosition:stopPosition]:\n",
    "        nextNumber = p2[position]\n",
    "        childValue = c[position]\n",
    "        childValueIndexInP2 = np.where(p2 == childValue)\n",
    "        if childValueIndexInP2 not in c[startPosition:stopPosition]:\n",
    "            c[childValueIndexInP2] = nextNumber\n",
    "        else:\n",
    "            parantPosAlternative = np.where(p2 == c[childValueIndexInP2])\n",
    "            c[parantPosAlternative] = nextNumber\n",
    "\n",
    "    \n",
    "        #print('next number: ', nextNumber)\n",
    "        #print('childValue', childValue)\n",
    "        #print('childValueIndexInP2', childValueIndexInP2)\n",
    "        print('c', c)\n",
    "        \n",
    "remainingPositions = np.where( c == 0)\n",
    "print('c rem',  remainingPositions)\n",
    "#c[remainingPositions] = p2[remainingPositions]\n",
    "print('p2', p2)\n",
    "print('c ', c)\n",
    "\n",
    "for position in remainingPositions:\n",
    "    c[position] = p2[position]\n",
    "\n",
    "print(c)"
   ]
  },
  {
   "cell_type": "code",
   "execution_count": 103,
   "metadata": {},
   "outputs": [],
   "source": [
    "class Pmx:\n",
    "    def __init__(self, p1, p2, startPosition, stopPosition):\n",
    "        self.p1, self.p2, self.startPosition, self.stopPosition =\\\n",
    "        p1, p2, startPosition, stopPosition\n",
    "        \n",
    "    def createChild(self):\n",
    "        p1, p2, startPosition, stopPosition = \\\n",
    "        self.p1, self.p2, self.startPosition, self.stopPosition\n",
    "        \n",
    "        c = np.zeros(len(p1))\n",
    "        c[startPosition:stopPosition] = p1[startPosition:stopPosition]\n",
    "\n",
    "        for position in np.arange(startPosition,stopPosition,1):\n",
    "            if p2[position] not in c[startPosition:stopPosition]:\n",
    "                nextNumber = p2[position]\n",
    "                childValue = c[position]\n",
    "                childValueIndexInP2 = np.where(p2 == childValue)\n",
    "                if childValueIndexInP2 not in c[startPosition:stopPosition]:\n",
    "                    c[childValueIndexInP2] = nextNumber\n",
    "                else:\n",
    "                    parantPosAlternative = np.where(p2 == c[childValueIndexInP2])\n",
    "                    c[parantPosAlternative] = nextNumber\n",
    "                    \n",
    "        remainingPositions = np.where( c == 0)\n",
    "        for position in remainingPositions:\n",
    "            c[position] = p2[position]\n",
    "        return c"
   ]
  },
  {
   "cell_type": "code",
   "execution_count": 104,
   "metadata": {},
   "outputs": [
    {
     "name": "stdout",
     "output_type": "stream",
     "text": [
      "[9. 3. 2. 4. 5. 6. 7. 1. 8.]\n"
     ]
    }
   ],
   "source": [
    "p1 = np.asarray(np.arange(1,9+1,1))\n",
    "p2 = np.asarray((9,3,7,8,2,6,5,1,4))\n",
    "startPosition = 3\n",
    "stopPosition = 6+1\n",
    "pmx = Pmx(p1, p2, startPosition, stopPosition)\n",
    "child = pmx.createChild()\n",
    "print(child)"
   ]
  },
  {
   "cell_type": "code",
   "execution_count": 105,
   "metadata": {},
   "outputs": [
    {
     "name": "stdout",
     "output_type": "stream",
     "text": [
      "[5. 9. 8. 1. 3. 6. 4. 2. 7.]\n"
     ]
    }
   ],
   "source": [
    "# Exercise values\n",
    "p1 = np.array((2,4,7,1,3,6,8,9,5))\n",
    "p2 = np.array((5,9,8,6,2,4,1,3,7))\n",
    "startPosition = 3\n",
    "stopPosition = 6+1\n",
    "pmx = Pmx(p1, p2, startPosition, stopPosition)\n",
    "child = pmx.createChild()\n",
    "print(child)"
   ]
  },
  {
   "cell_type": "markdown",
   "metadata": {},
   "source": [
    "One element differs from solutions."
   ]
  }
 ],
 "metadata": {
  "kernelspec": {
   "display_name": "Python 3",
   "language": "python",
   "name": "python3"
  },
  "language_info": {
   "codemirror_mode": {
    "name": "ipython",
    "version": 3
   },
   "file_extension": ".py",
   "mimetype": "text/x-python",
   "name": "python",
   "nbconvert_exporter": "python",
   "pygments_lexer": "ipython3",
   "version": "3.6.6"
  }
 },
 "nbformat": 4,
 "nbformat_minor": 2
}
